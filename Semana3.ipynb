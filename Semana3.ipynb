{
  "nbformat": 4,
  "nbformat_minor": 0,
  "metadata": {
    "colab": {
      "name": "Semana3.ipynb",
      "provenance": [],
      "authorship_tag": "ABX9TyPxpip2VgbyF/gUFtN3jNYX",
      "include_colab_link": true
    },
    "kernelspec": {
      "name": "python3",
      "display_name": "Python 3"
    },
    "language_info": {
      "name": "python"
    }
  },
  "cells": [
    {
      "cell_type": "markdown",
      "metadata": {
        "id": "view-in-github",
        "colab_type": "text"
      },
      "source": [
        "<a href=\"https://colab.research.google.com/github/JoshuaRiveraCenepo/Semana1/blob/main/Semana3.ipynb\" target=\"_parent\"><img src=\"https://colab.research.google.com/assets/colab-badge.svg\" alt=\"Open In Colab\"/></a>"
      ]
    },
    {
      "cell_type": "code",
      "metadata": {
        "colab": {
          "base_uri": "https://localhost:8080/"
        },
        "id": "YwoStREc49UC",
        "outputId": "4d090081-1055-4d32-8567-79fa4c0076cd"
      },
      "source": [
        "%%writefile r1.cpp\n",
        "#include <iostream>\n",
        "using namespace std;\n",
        "void f1(int n){\n",
        "    \n",
        "    if(n>0)\n",
        "    {\n",
        "     f1(n-1);\n",
        "     cout<<n<<\" \";   \n",
        "    } \n",
        "}\n",
        "int f2(int n){\n",
        "    if (n==1)\n",
        "      return 1;\n",
        "      else\n",
        "      return n+f2(n-1);      \n",
        "}\n",
        "int main(){\n",
        "    //f1(5);\n",
        "    cout << endl;\n",
        "    cout<<f2(5);\n",
        "}"
      ],
      "execution_count": 23,
      "outputs": [
        {
          "output_type": "stream",
          "name": "stdout",
          "text": [
            "Overwriting r1.cpp\n"
          ]
        }
      ]
    },
    {
      "cell_type": "code",
      "metadata": {
        "colab": {
          "base_uri": "https://localhost:8080/"
        },
        "id": "GeY-LPWs5Ksw",
        "outputId": "864254fc-6f6a-4541-a750-60ce630be710"
      },
      "source": [
        "!g++ r1.cpp && ./a.out"
      ],
      "execution_count": 24,
      "outputs": [
        {
          "output_type": "stream",
          "name": "stdout",
          "text": [
            "\n",
            "15"
          ]
        }
      ]
    },
    {
      "cell_type": "code",
      "metadata": {
        "colab": {
          "base_uri": "https://localhost:8080/"
        },
        "id": "9hJn-mvM7Caa",
        "outputId": "5a101c9c-2f98-4b6a-f48d-d31b84b186d6"
      },
      "source": [
        "%%writefile r2.cpp\n",
        "#include <iostream>\n",
        "using namespace std;\n",
        "int  f1(int n){\n",
        "     if(n<3)\n",
        "     return 1;\n",
        "     else\n",
        "     return f1(n-1)+f1(n-2);\n",
        "}\n",
        "void fibonacci(int n){\n",
        "    if(n>1)  \n",
        "        fibonacci(n-1);\n",
        "        cout<<f1(n)<<\" \";    \n",
        "}\n",
        "    \n",
        "int main(){   \n",
        "  fibonacci(46);  \n",
        "  return 0;\n",
        "}\n"
      ],
      "execution_count": 84,
      "outputs": [
        {
          "output_type": "stream",
          "name": "stdout",
          "text": [
            "Overwriting r2.cpp\n"
          ]
        }
      ]
    },
    {
      "cell_type": "code",
      "metadata": {
        "colab": {
          "base_uri": "https://localhost:8080/"
        },
        "id": "5_YYMsAm-kkY",
        "outputId": "c1c2b823-0f2e-49ea-e5b0-dcc50c6a7d47"
      },
      "source": [
        "!g++ r2.cpp && ./a.out"
      ],
      "execution_count": 85,
      "outputs": [
        {
          "output_type": "stream",
          "name": "stdout",
          "text": [
            "1 1 2 3 5 8 13 21 34 55 89 144 233 377 610 987 1597 2584 4181 6765 10946 17711 28657 46368 75025 121393 196418 317811 514229 832040 1346269 2178309 3524578 5702887 9227465 14930352 24157817 39088169 63245986 102334155 165580141 267914296 433494437 701408733 1134903170 1836311903 "
          ]
        }
      ]
    },
    {
      "cell_type": "code",
      "metadata": {
        "colab": {
          "base_uri": "https://localhost:8080/"
        },
        "id": "RWO7UHfUEpO-",
        "outputId": "866c2fbc-9859-4afc-cf57-5ca8e3242493"
      },
      "source": [
        "%%writefile r3.cpp\n",
        "#include <iostream>\n",
        "using namespace std;\n",
        "\n",
        "void cortes(int n,int a,int b)\n",
        "{\n",
        "    if (n>0)\n",
        "    {\n",
        "        cout<<a<<\" \"<<b<<\" \";  \n",
        "        cortes(n-1,b,a/2)        \n",
        "        cout<<a,b<<\" \";   \n",
        "    }\n",
        "    \n",
        "}\n",
        "int main(){\n",
        "    cortes(3,200,300)\n",
        "    return 0;\n",
        "}"
      ],
      "execution_count": 86,
      "outputs": [
        {
          "output_type": "stream",
          "name": "stdout",
          "text": [
            "Writing r3.cpp\n"
          ]
        }
      ]
    },
    {
      "cell_type": "code",
      "metadata": {
        "colab": {
          "base_uri": "https://localhost:8080/"
        },
        "id": "1_Gav2mMFifw",
        "outputId": "7e44573d-661a-48be-acb9-bd2803091792"
      },
      "source": [
        "!g++ r3.cpp && ./a.out"
      ],
      "execution_count": 87,
      "outputs": [
        {
          "output_type": "stream",
          "name": "stdout",
          "text": [
            "\u001b[01m\u001b[Kr3.cpp:\u001b[m\u001b[K In function ‘\u001b[01m\u001b[Kvoid cortes(int, int, int)\u001b[m\u001b[K’:\n",
            "\u001b[01m\u001b[Kr3.cpp:10:9:\u001b[m\u001b[K \u001b[01;31m\u001b[Kerror: \u001b[m\u001b[Kexpected ‘\u001b[01m\u001b[K;\u001b[m\u001b[K’ before ‘\u001b[01m\u001b[Kcout\u001b[m\u001b[K’\n",
            "         \u001b[01;31m\u001b[Kcout\u001b[m\u001b[K<<a,b<<\" \";\n",
            "         \u001b[01;31m\u001b[K^~~~\u001b[m\u001b[K\n",
            "\u001b[01m\u001b[Kr3.cpp:\u001b[m\u001b[K In function ‘\u001b[01m\u001b[Kint main()\u001b[m\u001b[K’:\n",
            "\u001b[01m\u001b[Kr3.cpp:16:5:\u001b[m\u001b[K \u001b[01;31m\u001b[Kerror: \u001b[m\u001b[Kexpected ‘\u001b[01m\u001b[K;\u001b[m\u001b[K’ before ‘\u001b[01m\u001b[Kreturn\u001b[m\u001b[K’\n",
            "     \u001b[01;31m\u001b[Kreturn\u001b[m\u001b[K 0;\n",
            "     \u001b[01;31m\u001b[K^~~~~~\u001b[m\u001b[K\n"
          ]
        }
      ]
    }
  ]
}