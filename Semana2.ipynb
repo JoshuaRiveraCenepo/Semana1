{
  "nbformat": 4,
  "nbformat_minor": 0,
  "metadata": {
    "colab": {
      "name": "Semana2.ipynb",
      "provenance": [],
      "collapsed_sections": [],
      "authorship_tag": "ABX9TyNUHC9w1LQ3LAGczoXUQp2a",
      "include_colab_link": true
    },
    "kernelspec": {
      "name": "python3",
      "display_name": "Python 3"
    },
    "language_info": {
      "name": "python"
    }
  },
  "cells": [
    {
      "cell_type": "markdown",
      "metadata": {
        "id": "view-in-github",
        "colab_type": "text"
      },
      "source": [
        "<a href=\"https://colab.research.google.com/github/JoshuaRiveraCenepo/Semana1/blob/main/Semana2.ipynb\" target=\"_parent\"><img src=\"https://colab.research.google.com/assets/colab-badge.svg\" alt=\"Open In Colab\"/></a>"
      ]
    },
    {
      "cell_type": "code",
      "metadata": {
        "colab": {
          "base_uri": "https://localhost:8080/"
        },
        "id": "OUKxRp-Vp3Ee",
        "outputId": "c5597d57-1bef-4127-d3cb-0f6e4c8aff30"
      },
      "source": [
        "%%writefile practica.cpp\n",
        "#include <iostream>\n",
        "#include <fstream>\n",
        "#include <sstream>\n",
        "#include <functional>\n",
        "#include <vector>\n",
        "using namespace std;\n",
        "struct Persona{\n",
        "    string nombre, apellido;\n",
        "    unsigned short edad;\n",
        "    Persona(string nombre, string apellido,unsigned short edad 😞 nombre(nombre),\n",
        "    apellido(apellido),edad(edad){  }\n",
        "    };\n",
        "void lectura(vector<Persona>& personas){\n",
        "    string cadena, aux;\n",
        "    string nombre, apellido;\n",
        "    unsigned short edad; \n",
        "    ifstream arch(\"alumnos.txt\");\n",
        "    while(getline(arch,cadena )){\n",
        "        stringstream archMemoria(cadena);\n",
        "        getline(archMemoria,nombre,'*');\n",
        "        getline(archMemoria,apellido,'*');\n",
        "        getline(archMemoria,aux);\n",
        "        edad=stoi(aux);\n",
        "       // cout<<edad<<apellido<<\" \"<<nombre<<\" \"<<endl;\n",
        "        personas.push_back(Persona(nombre, apellido, edad));\n",
        "    }\n",
        "    arch.close();\n",
        "   // cout<<personas.size();\n",
        "}\n",
        "void salen(vector<Persona> p,function<void(vector<Persona>)> criterio){\n",
        "    criterio(p);\n",
        "}\n",
        "int main(){\n",
        "    vector<Persona> personas;\n",
        "    lectura(personas);\n",
        "    auto edad=[](vector<Persona> p ){\n",
        "        for(size_t i=0;i<p.size();++i)\n",
        "            if(p[i].edad>18&&p[i].edad<35)\n",
        "              cout<<p[i].nombre<<\" \"<<p[i].apellido<<endl;\n",
        "    };\n",
        "    salen(personas,edad);\n",
        "    return 0;\n",
        "}"
      ],
      "execution_count": 11,
      "outputs": [
        {
          "output_type": "stream",
          "text": [
            "Overwriting archivos.cpp\n"
          ],
          "name": "stdout"
        }
      ]
    },
    {
      "cell_type": "code",
      "metadata": {
        "id": "5bU7IU9hrxTw"
      },
      "source": [
        "#compilar\n",
        "!g++ archivos.cpp"
      ],
      "execution_count": 7,
      "outputs": []
    },
    {
      "cell_type": "code",
      "metadata": {
        "colab": {
          "base_uri": "https://localhost:8080/"
        },
        "id": "87nACpw_s7Mf",
        "outputId": "fc42f69b-dc08-41a1-f142-22fedb38b91c"
      },
      "source": [
        "#ejecucion\n",
        "!./a.out"
      ],
      "execution_count": 8,
      "outputs": [
        {
          "output_type": "stream",
          "text": [
            "Nicolas GEI"
          ],
          "name": "stdout"
        }
      ]
    },
    {
      "cell_type": "code",
      "metadata": {
        "colab": {
          "base_uri": "https://localhost:8080/"
        },
        "id": "5tPR9GJStS2F",
        "outputId": "6b1d0716-9931-4028-b517-7dd4ec969665"
      },
      "source": [
        "!g++ archivos.cpp && ./a.out"
      ],
      "execution_count": 12,
      "outputs": [
        {
          "output_type": "stream",
          "text": [
            "UPC, exigete e innova\n"
          ],
          "name": "stdout"
        }
      ]
    },
    {
      "cell_type": "code",
      "metadata": {
        "colab": {
          "base_uri": "https://localhost:8080/"
        },
        "id": "Zd_YNGhivjhZ",
        "outputId": "75723eea-332e-42e2-d3f4-21f422ce0885"
      },
      "source": [
        "!g++ archivos.cpp -o archivos.exe && ./archivos.exe"
      ],
      "execution_count": 10,
      "outputs": [
        {
          "output_type": "stream",
          "text": [
            "Nicolas GEI"
          ],
          "name": "stdout"
        }
      ]
    }
  ]
}