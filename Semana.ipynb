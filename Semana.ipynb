{
  "nbformat": 4,
  "nbformat_minor": 0,
  "metadata": {
    "colab": {
      "name": "Semana.ipynb",
      "provenance": [],
      "authorship_tag": "ABX9TyPaSCgkLdY2M2n7OZHiV0TT",
      "include_colab_link": true
    },
    "kernelspec": {
      "name": "python3",
      "display_name": "Python 3"
    },
    "language_info": {
      "name": "python"
    }
  },
  "cells": [
    {
      "cell_type": "markdown",
      "metadata": {
        "id": "view-in-github",
        "colab_type": "text"
      },
      "source": [
        "<a href=\"https://colab.research.google.com/github/JoshuaRiveraCenepo/Semana1/blob/main/Semana.ipynb\" target=\"_parent\"><img src=\"https://colab.research.google.com/assets/colab-badge.svg\" alt=\"Open In Colab\"/></a>"
      ]
    },
    {
      "cell_type": "code",
      "metadata": {
        "colab": {
          "base_uri": "https://localhost:8080/"
        },
        "id": "OUKxRp-Vp3Ee",
        "outputId": "7eb5e3a8-3835-4649-8af4-9a0abcdc7409"
      },
      "source": [
        "%%writefile programa1.cpp\n",
        "#include <iostream>\n",
        "using namespace std;\n",
        "\n",
        "int main(){\n",
        "    cout <<\"Nicolas GEI\";\n",
        "    return 0;\n",
        "}"
      ],
      "execution_count": 9,
      "outputs": [
        {
          "output_type": "stream",
          "text": [
            "Overwriting programa1.cpp\n"
          ],
          "name": "stdout"
        }
      ]
    },
    {
      "cell_type": "code",
      "metadata": {
        "id": "5bU7IU9hrxTw"
      },
      "source": [
        "#compilar\n",
        "!g++ programa1.cpp"
      ],
      "execution_count": 13,
      "outputs": []
    },
    {
      "cell_type": "code",
      "metadata": {
        "colab": {
          "base_uri": "https://localhost:8080/"
        },
        "id": "87nACpw_s7Mf",
        "outputId": "c80d7521-952b-495a-d568-927e551faf83"
      },
      "source": [
        "#ejecucion\n",
        "!./a.out"
      ],
      "execution_count": 12,
      "outputs": [
        {
          "output_type": "stream",
          "text": [
            "Nicolas GEI"
          ],
          "name": "stdout"
        }
      ]
    },
    {
      "cell_type": "code",
      "metadata": {
        "colab": {
          "base_uri": "https://localhost:8080/"
        },
        "id": "5tPR9GJStS2F",
        "outputId": "62dc7d97-9d60-4ce7-f439-527f61d4f9ba"
      },
      "source": [
        "!g++ programa1.cpp && ./a.out"
      ],
      "execution_count": 11,
      "outputs": [
        {
          "output_type": "stream",
          "text": [
            "Nicolas GEI"
          ],
          "name": "stdout"
        }
      ]
    },
    {
      "cell_type": "code",
      "metadata": {
        "colab": {
          "base_uri": "https://localhost:8080/"
        },
        "id": "Zd_YNGhivjhZ",
        "outputId": "002cde2a-946f-4bdb-b6ba-76c3c5980030"
      },
      "source": [
        "!g++ programa1.cpp -o programa1.exe && ./programa1.exe"
      ],
      "execution_count": 7,
      "outputs": [
        {
          "output_type": "stream",
          "text": [
            "Google collab 0"
          ],
          "name": "stdout"
        }
      ]
    }
  ]
}